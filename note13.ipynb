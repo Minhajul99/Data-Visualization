{
 "cells": [
  {
   "cell_type": "markdown",
   "metadata": {},
   "source": [
    "# Comp 6934 Winter 2025 Note 13\n",
    "\n",
    "by E Brown.\n",
    "\n"
   ]
  },
  {
   "cell_type": "markdown",
   "metadata": {},
   "source": [
    "Ploty graph objects is an complex package, so all we have time for is an introduction to some of its basic structures.\n"
   ]
  },
  {
   "cell_type": "markdown",
   "metadata": {},
   "source": [
    "# Plotly Graph Objects"
   ]
  },
  {
   "cell_type": "markdown",
   "metadata": {},
   "source": [
    "When plotly express does not have a plot ready-built for your needs, you may turn to the lower-level plotly calls in the graph object module to construct a plot\n",
    "\n",
    "This introduction cannot make you a power programmer of graph objects, but it can introduce some of the basic organizing ideas, hopefully giving you a start for exploring the capabilities yourself. \n",
    "\n",
    "First, note that plotly encodes its graph figures as a JSON data structure, which is represented as a python dictionary when using python. The following example is from the python docs at https://plotly.com/python/creating-and-updating-figures/#figures-as-dictionaries "
   ]
  },
  {
   "cell_type": "code",
   "execution_count": null,
   "metadata": {
    "scrolled": true
   },
   "outputs": [],
   "source": [
    "figDict = dict({\n",
    "    \"data\": [{\"type\": \"bar\",\n",
    "              \"x\": [1, 2, 3],\n",
    "              \"y\": [1, 3, 2]}],\n",
    "    \"layout\": {\"title\": {\"text\": \"A Figure Specified By Python Dictionary\"}}\n",
    "})\n",
    "\n",
    "# To display the figure defined by this dict, use the low-level plotly.io.show function\n",
    "import plotly.io as pio\n",
    "\n",
    "pio.show(figDict)"
   ]
  },
  {
   "cell_type": "markdown",
   "metadata": {},
   "source": [
    "by using a plotly Figure object instead of a plain dictionary, we also get methods and classes for building and rendering our graph figures, data validation, and lots of convenience methods. You can examine the graph object API calls at https://plotly.com/python-api-reference/ and the full plotly figure reference defining the data structure in detail at  https://plotly.com/python/reference/index/"
   ]
  },
  {
   "cell_type": "code",
   "execution_count": null,
   "metadata": {},
   "outputs": [],
   "source": [
    "import plotly.graph_objects as go\n",
    "\n",
    "fig = go.Figure(\n",
    "    data=[go.Bar(x=[1, 2, 3], y=[1, 3, 2])],\n",
    "    layout=go.Layout(\n",
    "        title=go.layout.Title(text=\"A Figure Specified By A Graph Object\")\n",
    "    )\n",
    ")\n",
    "\n",
    "fig.show()\n"
   ]
  },
  {
   "cell_type": "code",
   "execution_count": null,
   "metadata": {},
   "outputs": [],
   "source": [
    "# what's in a fig instance?\n",
    "print(fig)"
   ]
  },
  {
   "cell_type": "code",
   "execution_count": null,
   "metadata": {},
   "outputs": [],
   "source": [
    "import plotly.express as px\n",
    "import pandas as pd"
   ]
  },
  {
   "cell_type": "markdown",
   "metadata": {},
   "source": [
    "Even if you use plotly express, it is essentially a way to produce a complex instance of figure: \n"
   ]
  },
  {
   "cell_type": "code",
   "execution_count": null,
   "metadata": {
    "scrolled": true
   },
   "outputs": [],
   "source": [
    "import plotly.express as px\n",
    "df = px.data.iris()\n",
    "fig = px.scatter(df, x=\"sepal_width\", y=\"sepal_length\", color=\"species\", marginal_y=\"histogram\",\n",
    "           marginal_x=\"box\", trendline=\"ols\", template=\"simple_white\")\n",
    "print(fig)\n",
    "fig.show()"
   ]
  },
  {
   "cell_type": "markdown",
   "metadata": {},
   "source": [
    "## Graph Objects\n",
    "\n",
    "The figure data structure is hierarchical, in the sense that more and more details can be specified if you travel from the 'data' and 'layout' branches at the top of the hierarchy, down to the leaves of the data structure; or you can just accept the results as plotly tries to make sensible default setting. \n",
    "\n",
    "At each level of the figure hierarchy, there are corresponding graph objects classes and methods to help you build the appropriate specification. This makes plotly a easy package to use, but difficult to master because of all the options and formats that must be applied.\n",
    "\n"
   ]
  },
  {
   "cell_type": "markdown",
   "metadata": {},
   "source": [
    "## Examples\n",
    "\n",
    "There are lots of plotly tutorials on line, now that you can distinguish between plotly express and the graph objects APIs, you can try them as you like.  I'm going to incorporate (part of) a kaggle notebook from https://www.kaggle.com/code/hakkisimsek/plotly-tutorial-1/notebook\n",
    "\n",
    "The author uses a variety of methods between graph objects classes and hand coding the data structures. That is what I like about it.\n",
    "\n",
    "Unfortunately, the code is quite dated and I had to update some of it to avoid errors.  Also I abandon the tutorial as soon as the author included Seaborn examples; we are only interested in seeing how things can be done in plotly."
   ]
  },
  {
   "cell_type": "markdown",
   "metadata": {},
   "source": [
    "<mark>This is my</mark> [modified verison of hakkisimsek's tutorial](hakkisimsek-tutorial.ipynb) <mark>I want you to study.</mark>\n",
    "\n"
   ]
  }
 ],
 "metadata": {
  "kernelspec": {
   "display_name": "Python 3 (ipykernel)",
   "language": "python",
   "name": "python3"
  },
  "language_info": {
   "codemirror_mode": {
    "name": "ipython",
    "version": 3
   },
   "file_extension": ".py",
   "mimetype": "text/x-python",
   "name": "python",
   "nbconvert_exporter": "python",
   "pygments_lexer": "ipython3",
   "version": "3.9.21"
  }
 },
 "nbformat": 4,
 "nbformat_minor": 4
}
