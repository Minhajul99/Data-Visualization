{
 "cells": [
  {
   "cell_type": "markdown",
   "metadata": {},
   "source": [
    "\n",
    "\n",
    "# 0 COMP 6934  Intro\n",
    "## 0.1 Outline\n",
    "\n",
    "The [course outline](http://www.cs.mun.ca/~brown/courses/6905/outline2025.pdf) is available at the [course web page](http://www.cs.mun.ca/~brown/courses/6905)"
   ]
  },
  {
   "cell_type": "markdown",
   "metadata": {},
   "source": [
    "## 0.2 Course plan\n",
    "\n",
    "We going to start by looking at data visualization from the perspective of exploratory data analysis. The approach is to introduce different models of data visualization (that help us think about visualization in different ways) and how those ideas are expressed in different programming environments and libraries. We'll use examples of data sets to illustrate how to think about programming different data visualizations.\n",
    " \n",
    "A lot of courses or tutorials will concentrate on one visualization tool or environment. I try to touch on a few different software libraries and tools, so we get more of a comparatve understanding rather than depth in any specific tool in this course.  Hopefully, though, you get enough of the conceptual framework for each environment that you can continue to develop the skills you want independently. Occasionally, I will try to point out what we're NOT covering, so you can decide if and how you want to pursue a particular skill or subject a bit deeper on your own. \n",
    "\n",
    "There are realted subjects this course is not covering in any detail: Statistics, machine learning and data mining techniques are important areas of data analysis which can exploit visualization and are important to data science, but are not required for this course - so other than a breif look at some statistical concepts, the course doesn't develop these areas. This means we're mainly looking at exploratory uses of data visualization; but if you want to apply skills from Stats, ML or data mining you should go for it! </span>\n",
    "\n",
    "From the technology side, we're going to start with Jupyter notebooks as out technology environment.\n",
    "\n",
    "## 0.3 Jupyter and the web browser\n",
    "Jupyter is a popular interactive \"scientific notebook\" that allows executable code to be interspersed with document text in its notebook \"cells\". The programming language for the code cells default to python, but there are other execution kernals that allow notebook cells to use other programming languages, such as R code.\n",
    "\n",
    "Jupyter files and the running kernels for various programming language all reside on a server, while you view and edit the notebook through a client browser. This means you'll need some understanding of how client-server web interaction supports Jupyter to do any serious programming, and to set up your own server configuration. \n",
    "\n",
    "![](./images/jupyterserver.png)\n",
    "\n",
    "**Image taken from <https://discourse.jupyter.org/t/how-is-the-latest-architecture-of-jupyter/13726>**\n",
    "\n",
    "Its primarily the notion of \"experimenting with\" or \"exploring\" data that makes jupyter a good fit for this course. With a \"scientific notebook\" we might not have the separation between end users and programmers that an app developer is used to.  This has important implications in how we present and think about code:\n",
    "* a \"scientific notebook\" author expects the end user to read the code as part of understanding the data analysis; so the code source is part of the description or study of the data. \n",
    "* the end user can be expected to manipulate and play with the code the author provides; however, the user community might be competent programmers without being developers, in which case the author wants to write code they can understand.\n",
    "* the code can tend to be segmented, disconnected, specific to a particular data set, and generally not re-usable for other applications.  In a traditional software engineering setting, these would all be considered bad qualities. \n",
    "\n",
    "Jupyter is being used for a lot of other applications than just a scientific notebook; and how you write code will be affected. For examples:\n",
    "* <span class=\"notcovered\"> Creating a data analysis dashboard: Data scientists work for businesses collecting sensor, performance, customer or other data on a regular basis, so once the data specialist has created analysis processes and tools for the business, others need to be re-run the analyses as new data is collected. So Jupyter has support to create Dashboard applications, although we will also look at other dashboard frameworks if there is enough time.</span>\n",
    "* <span class=\"notcovered\">Reporting results: it's nice to intermingle executable code in report text, especially if you might have periodic reporting requirements where the data changes, but the form of the report stays the same. But in this case, the audience might only care about the results, not the analysis process: they don't need to understand the code.</span>\n",
    "\n",
    "<span class=notcovered>And if you interested, here's a [talk by Joel Grus](https://www.youtube.com/watch?v=7jiPeIFXb6U) about why Jupyter notebooks are problematic for things like structured programming and fixing bugs, with all the layers of state information that is hidden from you the programmer.</span>\n",
    "\n",
    "Jupyter was originally called IPython notebook; there is a newer clinet-side front end tool for Jupyter called **JupyterLab**, with incorporates additional tools for manipulating Jupyter notebooks, these tools are not part of the notebook itselfbut operate something like an IDE environment.\n",
    "\n",
    "**If you're a windows user:** I don't hear about people using IE for Jupyter, so you may want to switch to Chrome if IE gives you problems with Jupyter."
   ]
  }
 ],
 "metadata": {
  "kernelspec": {
   "display_name": "Python 3 (ipykernel)",
   "language": "python",
   "name": "python3"
  },
  "language_info": {
   "codemirror_mode": {
    "name": "ipython",
    "version": 3
   },
   "file_extension": ".py",
   "mimetype": "text/x-python",
   "name": "python",
   "nbconvert_exporter": "python",
   "pygments_lexer": "ipython3",
   "version": "3.9.21"
  },
  "widgets": {
   "application/vnd.jupyter.widget-state+json": {
    "state": {
     "451bafa0603e4587af79202658c169a6": {
      "model_module": "@jupyter-widgets/controls",
      "model_module_version": "1.5.0",
      "model_name": "ToggleButtonModel",
      "state": {
       "description": "Hide Cell",
       "icon": "toggle-off",
       "layout": "IPY_MODEL_7d3ee98dc4c14f90b8d417fc8974ca64",
       "style": "IPY_MODEL_aab24fd05f47467e86ff755e2a8a5f42",
       "tooltip": "Toggle cell input display"
      }
     },
     "7d3ee98dc4c14f90b8d417fc8974ca64": {
      "model_module": "@jupyter-widgets/base",
      "model_module_version": "1.2.0",
      "model_name": "LayoutModel",
      "state": {}
     },
     "aab24fd05f47467e86ff755e2a8a5f42": {
      "model_module": "@jupyter-widgets/controls",
      "model_module_version": "1.5.0",
      "model_name": "DescriptionStyleModel",
      "state": {
       "description_width": ""
      }
     }
    },
    "version_major": 2,
    "version_minor": 0
   }
  }
 },
 "nbformat": 4,
 "nbformat_minor": 4
}
