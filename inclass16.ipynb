{
 "cells": [
  {
   "cell_type": "markdown",
   "metadata": {},
   "source": [
    "# COMP 6934 Winter 2025 In class Work 16\n",
    "\n",
    "Guidelines per Tamara Munzner chapter 6.\n"
   ]
  },
  {
   "cell_type": "markdown",
   "metadata": {},
   "source": [
    "### Problem Set 16\n",
    "\n",
    "\n",
    "Rules of Thumb from Munzner's text.\n",
    "\n",
    "Extension of problem set 12.\n",
    "\n",
    "Consider the 3D line plot of problem 12.\n",
    "\n",
    "Suppose that the purpose of the plot is to compare locations in terms of the temperature range and average, as the user is looking for a comfortable place to stay.\n"
   ]
  },
  {
   "cell_type": "markdown",
   "metadata": {},
   "source": [
    "#### Problem 16.1\n",
    "\n",
    "What concerns would the existing visualization from problem set 12 raise? Include some rules of thumb in your response."
   ]
  },
  {
   "cell_type": "markdown",
   "metadata": {},
   "source": [
    "**The existing 3D line plot from Problem Set 12, as implemented using Plotly Express, has a few potential issues when comparing temperature ranges and averages:**\n",
    "\n",
    "1. **3D Complexity:**\n",
    "    * Concern: 3D plots can quickly become hard to interpret, especially when comparing multiple data points. Here, each city is represented by a separate line in 3D space, which can make it difficult for users to identify trends and relationships between low and high temperatures clearly.\n",
    "    * Rule of Thumb: Avoid using 3D plots for data that can be better represented in 2D. Complexity in the third dimension (especially with multiple data points) might create visual confusion rather than clarity.\n",
    "      \n",
    "2. **Inability to Clearly Compare Values:**\n",
    "    * Concern: In a 3D plot, users may have difficulty comparing the temperature ranges (low vs. high temperatures) across cities because the lines are not aligned in a way that makes it easy to track both axes (low and high temperatures) simultaneously.\n",
    "    * Rule of Thumb: Ensure that comparisons between multiple variables are easy and intuitive. If the axes aren’t aligned in a meaningful way, the user may struggle to extract the intended insights.\n",
    "      \n",
    "3. **Overplotting:**\n",
    "    * Concern: Since you are plotting data for four cities, the lines might overlap or get cluttered in 3D space. This could make it hard to distinguish between the stations.\n",
    "    * Rule of Thumb: Avoid overplotting. Ensure that the visualization can handle the density of data without reducing clarity. Use techniques like transparency, distinct line styles, or interactive features to help users differentiate the lines.      \n",
    "4. **Interpretation of the Third Dimension:**\n",
    "    * Concern: The third axis (Max Temperature) might not be necessary if we are focusing on temperature ranges and averages. The plot could benefit from simplifying the visualization by focusing on only one dimension (e.g., low temperature vs. day).\n",
    "    * Rule of Thumb: Only use the third dimension when it clearly adds value. If the third dimension is adding unnecessary complexity, reconsider its use.\n",
    "     \n",
    "5. **Scalability:**\n",
    "\n",
    "6. \n",
    "    * Concern: The plot could become harder to interpret if more cities or data points were added. As the data grows, the 3D lines may become overly dense and harder to read.\n",
    "    * Rule of Thumb: Scalability is essential. Choose visualizations that remain clear as the dataset grows."
   ]
  },
  {
   "cell_type": "markdown",
   "metadata": {},
   "source": [
    "#### Problem 16.2\n",
    "\n",
    "Implement new visualization(s) that address one or more concern raised in your answer under 16.1 \n"
   ]
  },
  {
   "cell_type": "markdown",
   "metadata": {
    "jp-MarkdownHeadingCollapsed": true
   },
   "source": [
    "# Attributions\n",
    "\n",
    "Be sure to add your own sources or indicate you have none to add.  Sources can be web sites, text materials, and so on. They do not have to be hyperlinks. Other people are also sources, but they are not allowed for in class credit problems.\n",
    "\n",
    "| Source | What is it | How used |\n",
    "|--|--|--|\n",
    "| <https://www.kaggle.com/datasets/jash312/canada-daily-weather-data-from-2018-to-2023> | data sets | taken directly as csv files  |\n",
    "| T. Munzner book https://www.cs.ubc.ca/~tmm/vadbook/| rules of thumb | chapter 6 |"
   ]
  },
  {
   "cell_type": "code",
   "execution_count": null,
   "metadata": {},
   "outputs": [],
   "source": []
  }
 ],
 "metadata": {
  "kernelspec": {
   "display_name": "Python 3 (ipykernel)",
   "language": "python",
   "name": "python3"
  },
  "language_info": {
   "codemirror_mode": {
    "name": "ipython",
    "version": 3
   },
   "file_extension": ".py",
   "mimetype": "text/x-python",
   "name": "python",
   "nbconvert_exporter": "python",
   "pygments_lexer": "ipython3",
   "version": "3.9.21"
  }
 },
 "nbformat": 4,
 "nbformat_minor": 4
}
