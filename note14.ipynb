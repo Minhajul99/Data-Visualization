{
 "cells": [
  {
   "attachments": {},
   "cell_type": "markdown",
   "metadata": {
    "slideshow": {
     "slide_type": ""
    },
    "tags": []
   },
   "source": [
    "# COMP 6934 W 25 Note 14\n",
    "\n",
    "We're departing from introducing some plotting packages for you to explore, and looking more generally at Visualization as a field of knowledge and study.\n",
    "\n",
    "I first want to examine [Tamara Munzner's text](https://www.cs.ubc.ca/~tmm/vadbook/) from 2014 because she tries to lay out a general methodological design scheme based on psychological, perceptual and design principles.\n",
    "* She introduces some terminology of her own so be aware of this\n",
    "* The fundamental three questions of her approach are easy to understand and can be used even if you do not have technical knowledge of all possible choices in her system.\n",
    "* But I think her approach is weak in some aspects:\n",
    "    * Often it is very important to understand the domain of the data collection to design useful visuals: you have to be able to interpret the data and visuals according to the subject-matter of interest. Her approach does not give enough emphasis on this.\n",
    "    * Limitations and design opportunities due to hardware, data sources, and social influences are not accounted for in her approach.\n",
    "    * So far there is little use of animation or user interaction in her system. \n",
    "\n",
    "# Presentation slides\n",
    "\n",
    "The slides for this part of the course are taken from [Tamara Munzner's text](https://www.cs.ubc.ca/~tmm/vadbook/) and her [accompanying slide set](https://www.cs.ubc.ca/~tmm/talks.html#vadallslides) which is posted online. You can download [all 689 slides as a massive single pdf](https://www.cs.ubc.ca/~tmm/talks/vad/vadallslides-2021.pdf).\n",
    "\n",
    "They are subject to copyright.\n",
    "\n",
    "I have a slide viewer coded in python in this jupyter notebook, but it probably is easier just to use Munzner's original slides. It takes a bit more work to turn jupyter into a decent slide viewer.  I decided not to commit the individual slide images to the notes repository, since it's a waste of space. You can still [access those images](slidesMunzner.zip) if you really want to view the slides using the viewer code in this jupyter notebook.\n",
    "\n",
    "# Listen to Tamara Munzner\n",
    "\n",
    "You can listen to her present her ideas and methods on youtube:\n",
    "* her channel https://www.youtube.com/@TamaraMunzner\n",
    "* her full course CSPCV 436V 2022 offering https://www.youtube.com/watch?v=1GhZisgc6DI&list=PLT4XLHmqHJBfKoeHlmgQYP9c_KMj_dR1I\n",
    "* A shorter 1-hour talk https://www.youtube.com/watch?v=jVC6SQS23ak\n",
    "\n",
    "\n",
    "## This note\n",
    "\n",
    "I will cover chapter 1-3 of Munzner's book, in a brief manner. Listen to her ideas from one of her video presentations to develop soime idea how to apply them..  \n",
    "\n",
    "Here's the list of slide numbers from Munzner's large slide set (689 slides total) that we're looking at in this note:"
   ]
  },
  {
   "cell_type": "code",
   "execution_count": 1,
   "metadata": {
    "editable": true,
    "slideshow": {
     "slide_type": ""
    },
    "tags": []
   },
   "outputs": [],
   "source": [
    "m21select = [13, 17, 48, 105, 301, 48, 76, 87, 88, 91, 106, 107, 108, 109, 110, 111, 301 ]"
   ]
  },
  {
   "attachments": {},
   "cell_type": "markdown",
   "metadata": {},
   "source": [
    "## Defining visualization (vis)\n",
    "\n",
    "Computer-based visualization systems provide visual representations of datasets\n",
    "designed to help people carry out tasks more effectively.\n",
    "\n",
    "Visualization is suitable when there is a need to augment human capabilities\n",
    "rather than replace people with computational decision-making methods.\n",
    "* don’t need vis when fully automatic solution exists and is trusted\n",
    "    * many analysis problems ill-specified\n",
    "    * don’t know exactly what questions to ask in advance\n",
    "* possibilities\n",
    "    * long-term use for end users (e.g. exploratory analysis of scientific data)\n",
    "    * presentation of known results\n",
    "    * stepping stone to better understanding of requirements before developing models\n",
    "    * help developers of automatic solution refine/debug, determine parameters\n",
    "    * help end users of automatic solutions verify, build trust\n",
    "\n",
    "External representation: replace cognition with perception\n",
    "\n",
    "Exploit human vision ability to see patterns"
   ]
  },
  {
   "cell_type": "code",
   "execution_count": 2,
   "metadata": {},
   "outputs": [
    {
     "data": {
      "text/html": [
       "<img src=\"slides2021munzner/slide-013.jpg\"/>"
      ],
      "text/plain": [
       "<IPython.core.display.Image object>"
      ]
     },
     "metadata": {},
     "output_type": "display_data"
    }
   ],
   "source": [
    "# display a slide from Munzner's slide collection book slides\n",
    "# I converted the pdf slides to jpeg files for this\n",
    "from IPython.display import Image\n",
    "\n",
    "slide=\"slides2021munzner/slide-013.jpg\"\n",
    "\n",
    "display(Image(url=slide))\n"
   ]
  },
  {
   "cell_type": "markdown",
   "metadata": {},
   "source": [
    "## Munzner's analytical framework: What - Why - How\n",
    "* what is shown?\n",
    "    * data abstraction\n",
    "* why is the user looking at it?\n",
    "    * task abstraction\n",
    "* how is it shown?\n",
    "    * _idiom_: visual encoding and interaction\n",
    "* abstract vocabulary avoids domain-specific terms\n",
    "     * translation process iterative, tricky\n",
    "* what-why-how analysis framework as scaffold to think systematically about design space"
   ]
  },
  {
   "cell_type": "code",
   "execution_count": 97,
   "metadata": {},
   "outputs": [],
   "source": [
    "# code to use Tamara Munzner's book slides\n",
    "# This the slide viewer mentioned earlier.\n",
    "\n",
    "folder=\"slides2021munzner/\"\n",
    "def Munzner21slide(no):  \n",
    "    return folder+\"slide-{:03d}.jpg\".format(no)\n",
    "\n",
    "slide_no=0\n",
    "m21select = [13, 17, 48, 105, 301, 48, 76, 87, 88, 91, 106, 107, 108, 109, 110, 111, 301 ] \n",
    "slide_list=[Munzner21slide(v) for v in m21select]"
   ]
  },
  {
   "cell_type": "code",
   "execution_count": 98,
   "metadata": {},
   "outputs": [
    {
     "data": {
      "text/html": [
       "<img src=\"slides2021munzner/slide-013.jpg\"/>"
      ],
      "text/plain": [
       "<IPython.core.display.Image object>"
      ]
     },
     "metadata": {},
     "output_type": "display_data"
    }
   ],
   "source": [
    "# Show the slide and increment slide_no for the next one.\n",
    "display(Image(url=slide_list[slide_no]))\n",
    "slide_no = (slide_no +1) % len(slide_list)\n"
   ]
  },
  {
   "cell_type": "code",
   "execution_count": null,
   "metadata": {},
   "outputs": [],
   "source": []
  },
  {
   "cell_type": "code",
   "execution_count": null,
   "metadata": {},
   "outputs": [],
   "source": []
  }
 ],
 "metadata": {
  "kernelspec": {
   "display_name": "Python 3 (ipykernel)",
   "language": "python",
   "name": "python3"
  },
  "language_info": {
   "codemirror_mode": {
    "name": "ipython",
    "version": 3
   },
   "file_extension": ".py",
   "mimetype": "text/x-python",
   "name": "python",
   "nbconvert_exporter": "python",
   "pygments_lexer": "ipython3",
   "version": "3.9.21"
  }
 },
 "nbformat": 4,
 "nbformat_minor": 4
}
