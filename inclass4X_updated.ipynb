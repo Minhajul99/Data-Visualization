{
 "cells": [
  {
   "cell_type": "markdown",
   "metadata": {},
   "source": [
    "## COMP 6934 Winter 2025 In class Work 4X\n",
    "\n",
    "Using some aggregation methods with Pandas.\n",
    "\n",
    "The dataset is the same as problem set 2 and 3, taken from <https://www.kaggle.com/datasets/jash312/canada-daily-weather-data-from-2018-to-2023>\n",
    "\n",
    "But I've improved the data set by removing the strange degree symbols in the column names. Get the improved data set weather.zip\n",
    "\n",
    "If the numpy library is not aleady installed, you may need to install it."
   ]
  },
  {
   "cell_type": "markdown",
   "metadata": {},
   "source": [
    "### Credit Problem Classroom Rules\n",
    "\n",
    "You must complete the activity in class in the time allotted. The following rules apply to the activity\n",
    "\n",
    "* You may not use any interaction with a person or generative AI, but you must still include an attributions table indicating any use of other static or outside online resources that are were not created by you during the invigilated activity class session.\n",
    "\n",
    "* University rules regarding academic dishonesty and penalties apply to the activity.\n",
    "\n",
    "* You will need a computer to manipulate the exam code and to push your solution to the remote.\n",
    "\n",
    "* Bring your student ID; they will be checked\n",
    "\n",
    "* Cell phones may NOT be used during the credit problem session\n",
    "\n",
    "* Do NOT contact other people during the exam, this includes pushing to any repository except the exam repo. You may consult the web, but you may not post queries or interact with others via a web site or with any other technology.\n",
    "\n",
    "* Make sure you are on the attendance sheet.\n"
   ]
  },
  {
   "cell_type": "markdown",
   "metadata": {},
   "source": [
    "First, I grab the data from a csv format file into a pandas dataframe:"
   ]
  },
  {
   "cell_type": "code",
   "execution_count": 113,
   "metadata": {},
   "outputs": [],
   "source": [
    "import matplotlib.pyplot as plt"
   ]
  },
  {
   "cell_type": "code",
   "execution_count": 114,
   "metadata": {},
   "outputs": [
    {
     "data": {
      "text/html": [
       "<div>\n",
       "<style scoped>\n",
       "    .dataframe tbody tr th:only-of-type {\n",
       "        vertical-align: middle;\n",
       "    }\n",
       "\n",
       "    .dataframe tbody tr th {\n",
       "        vertical-align: top;\n",
       "    }\n",
       "\n",
       "    .dataframe thead th {\n",
       "        text-align: right;\n",
       "    }\n",
       "</style>\n",
       "<table border=\"1\" class=\"dataframe\">\n",
       "  <thead>\n",
       "    <tr style=\"text-align: right;\">\n",
       "      <th></th>\n",
       "      <th>Longitude (x)</th>\n",
       "      <th>Latitude (y)</th>\n",
       "      <th>Station Name</th>\n",
       "      <th>Climate ID</th>\n",
       "      <th>Date/Time</th>\n",
       "      <th>Year</th>\n",
       "      <th>Month</th>\n",
       "      <th>Day</th>\n",
       "      <th>Data Quality</th>\n",
       "      <th>Max Temp (C)</th>\n",
       "      <th>...</th>\n",
       "      <th>Total Snow (cm)</th>\n",
       "      <th>Total Snow Flag</th>\n",
       "      <th>Total Precip (mm)</th>\n",
       "      <th>Total Precip Flag</th>\n",
       "      <th>Snow on Grnd (cm)</th>\n",
       "      <th>Snow on Grnd Flag</th>\n",
       "      <th>Dir of Max Gust (10s deg)</th>\n",
       "      <th>Dir of Max Gust Flag</th>\n",
       "      <th>Spd of Max Gust (km/h)</th>\n",
       "      <th>Spd of Max Gust Flag</th>\n",
       "    </tr>\n",
       "  </thead>\n",
       "  <tbody>\n",
       "    <tr>\n",
       "      <th>0</th>\n",
       "      <td>-53.99</td>\n",
       "      <td>47.29</td>\n",
       "      <td>ARGENTIA (AUT)</td>\n",
       "      <td>8400104</td>\n",
       "      <td>2022-07-22</td>\n",
       "      <td>2022</td>\n",
       "      <td>7</td>\n",
       "      <td>22</td>\n",
       "      <td>NaN</td>\n",
       "      <td>NaN</td>\n",
       "      <td>...</td>\n",
       "      <td>NaN</td>\n",
       "      <td>NaN</td>\n",
       "      <td>NaN</td>\n",
       "      <td>M</td>\n",
       "      <td>NaN</td>\n",
       "      <td>NaN</td>\n",
       "      <td>NaN</td>\n",
       "      <td>M</td>\n",
       "      <td>NaN</td>\n",
       "      <td>M</td>\n",
       "    </tr>\n",
       "    <tr>\n",
       "      <th>1</th>\n",
       "      <td>-53.99</td>\n",
       "      <td>47.29</td>\n",
       "      <td>ARGENTIA (AUT)</td>\n",
       "      <td>8400104</td>\n",
       "      <td>2022-07-23</td>\n",
       "      <td>2022</td>\n",
       "      <td>7</td>\n",
       "      <td>23</td>\n",
       "      <td>NaN</td>\n",
       "      <td>19.9</td>\n",
       "      <td>...</td>\n",
       "      <td>NaN</td>\n",
       "      <td>NaN</td>\n",
       "      <td>NaN</td>\n",
       "      <td>M</td>\n",
       "      <td>NaN</td>\n",
       "      <td>NaN</td>\n",
       "      <td>17.0</td>\n",
       "      <td>NaN</td>\n",
       "      <td>41.0</td>\n",
       "      <td>NaN</td>\n",
       "    </tr>\n",
       "    <tr>\n",
       "      <th>2</th>\n",
       "      <td>-53.99</td>\n",
       "      <td>47.29</td>\n",
       "      <td>ARGENTIA (AUT)</td>\n",
       "      <td>8400104</td>\n",
       "      <td>2022-07-24</td>\n",
       "      <td>2022</td>\n",
       "      <td>7</td>\n",
       "      <td>24</td>\n",
       "      <td>NaN</td>\n",
       "      <td>17.8</td>\n",
       "      <td>...</td>\n",
       "      <td>NaN</td>\n",
       "      <td>NaN</td>\n",
       "      <td>NaN</td>\n",
       "      <td>M</td>\n",
       "      <td>NaN</td>\n",
       "      <td>NaN</td>\n",
       "      <td>17.0</td>\n",
       "      <td>NaN</td>\n",
       "      <td>47.0</td>\n",
       "      <td>NaN</td>\n",
       "    </tr>\n",
       "    <tr>\n",
       "      <th>3</th>\n",
       "      <td>-53.99</td>\n",
       "      <td>47.29</td>\n",
       "      <td>ARGENTIA (AUT)</td>\n",
       "      <td>8400104</td>\n",
       "      <td>2022-07-25</td>\n",
       "      <td>2022</td>\n",
       "      <td>7</td>\n",
       "      <td>25</td>\n",
       "      <td>NaN</td>\n",
       "      <td>18.7</td>\n",
       "      <td>...</td>\n",
       "      <td>NaN</td>\n",
       "      <td>NaN</td>\n",
       "      <td>NaN</td>\n",
       "      <td>M</td>\n",
       "      <td>NaN</td>\n",
       "      <td>NaN</td>\n",
       "      <td>17.0</td>\n",
       "      <td>NaN</td>\n",
       "      <td>53.0</td>\n",
       "      <td>NaN</td>\n",
       "    </tr>\n",
       "    <tr>\n",
       "      <th>4</th>\n",
       "      <td>-53.99</td>\n",
       "      <td>47.29</td>\n",
       "      <td>ARGENTIA (AUT)</td>\n",
       "      <td>8400104</td>\n",
       "      <td>2022-07-26</td>\n",
       "      <td>2022</td>\n",
       "      <td>7</td>\n",
       "      <td>26</td>\n",
       "      <td>NaN</td>\n",
       "      <td>18.4</td>\n",
       "      <td>...</td>\n",
       "      <td>NaN</td>\n",
       "      <td>NaN</td>\n",
       "      <td>NaN</td>\n",
       "      <td>M</td>\n",
       "      <td>NaN</td>\n",
       "      <td>NaN</td>\n",
       "      <td>17.0</td>\n",
       "      <td>NaN</td>\n",
       "      <td>58.0</td>\n",
       "      <td>NaN</td>\n",
       "    </tr>\n",
       "  </tbody>\n",
       "</table>\n",
       "<p>5 rows × 31 columns</p>\n",
       "</div>"
      ],
      "text/plain": [
       "   Longitude (x)  Latitude (y)    Station Name Climate ID   Date/Time  Year  \\\n",
       "0         -53.99         47.29  ARGENTIA (AUT)    8400104  2022-07-22  2022   \n",
       "1         -53.99         47.29  ARGENTIA (AUT)    8400104  2022-07-23  2022   \n",
       "2         -53.99         47.29  ARGENTIA (AUT)    8400104  2022-07-24  2022   \n",
       "3         -53.99         47.29  ARGENTIA (AUT)    8400104  2022-07-25  2022   \n",
       "4         -53.99         47.29  ARGENTIA (AUT)    8400104  2022-07-26  2022   \n",
       "\n",
       "   Month  Day  Data Quality  Max Temp (C)  ... Total Snow (cm)  \\\n",
       "0      7   22           NaN           NaN  ...             NaN   \n",
       "1      7   23           NaN          19.9  ...             NaN   \n",
       "2      7   24           NaN          17.8  ...             NaN   \n",
       "3      7   25           NaN          18.7  ...             NaN   \n",
       "4      7   26           NaN          18.4  ...             NaN   \n",
       "\n",
       "   Total Snow Flag Total Precip (mm)  Total Precip Flag Snow on Grnd (cm)  \\\n",
       "0              NaN               NaN                  M               NaN   \n",
       "1              NaN               NaN                  M               NaN   \n",
       "2              NaN               NaN                  M               NaN   \n",
       "3              NaN               NaN                  M               NaN   \n",
       "4              NaN               NaN                  M               NaN   \n",
       "\n",
       "   Snow on Grnd Flag Dir of Max Gust (10s deg)  Dir of Max Gust Flag  \\\n",
       "0                NaN                       NaN                     M   \n",
       "1                NaN                      17.0                   NaN   \n",
       "2                NaN                      17.0                   NaN   \n",
       "3                NaN                      17.0                   NaN   \n",
       "4                NaN                      17.0                   NaN   \n",
       "\n",
       "  Spd of Max Gust (km/h)  Spd of Max Gust Flag  \n",
       "0                    NaN                     M  \n",
       "1                   41.0                   NaN  \n",
       "2                   47.0                   NaN  \n",
       "3                   53.0                   NaN  \n",
       "4                   58.0                   NaN  \n",
       "\n",
       "[5 rows x 31 columns]"
      ]
     },
     "execution_count": 114,
     "metadata": {},
     "output_type": "execute_result"
    }
   ],
   "source": [
    "import pandas as pd\n",
    "# read the csv data into a dataframe\n",
    "df = pd.read_csv('Data/NL_weather.csv',low_memory=False)\n",
    "df.head(5)"
   ]
  },
  {
   "cell_type": "code",
   "execution_count": 115,
   "metadata": {},
   "outputs": [
    {
     "name": "stdout",
     "output_type": "stream",
     "text": [
      "<class 'pandas.core.frame.DataFrame'>\n",
      "RangeIndex: 99657 entries, 0 to 99656\n",
      "Data columns (total 31 columns):\n",
      " #   Column                     Non-Null Count  Dtype  \n",
      "---  ------                     --------------  -----  \n",
      " 0   Longitude (x)              99657 non-null  float64\n",
      " 1   Latitude (y)               99657 non-null  float64\n",
      " 2   Station Name               99657 non-null  object \n",
      " 3   Climate ID                 99657 non-null  object \n",
      " 4   Date/Time                  99657 non-null  object \n",
      " 5   Year                       99657 non-null  int64  \n",
      " 6   Month                      99657 non-null  int64  \n",
      " 7   Day                        99657 non-null  int64  \n",
      " 8   Data Quality               0 non-null      float64\n",
      " 9   Max Temp (C)               89860 non-null  float64\n",
      " 10  Max Temp Flag              6292 non-null   object \n",
      " 11  Min Temp (C)               89834 non-null  float64\n",
      " 12  Min Temp Flag              6307 non-null   object \n",
      " 13  Mean Temp (C)              89733 non-null  float64\n",
      " 14  Mean Temp Flag             6323 non-null   object \n",
      " 15  Heat Deg Days (C)          89733 non-null  float64\n",
      " 16  Heat Deg Days Flag         6323 non-null   object \n",
      " 17  Cool Deg Days (C)          89733 non-null  float64\n",
      " 18  Cool Deg Days Flag         6323 non-null   object \n",
      " 19  Total Rain (mm)            23256 non-null  float64\n",
      " 20  Total Rain Flag            8855 non-null   object \n",
      " 21  Total Snow (cm)            23492 non-null  float64\n",
      " 22  Total Snow Flag            8819 non-null   object \n",
      " 23  Total Precip (mm)          71166 non-null  float64\n",
      " 24  Total Precip Flag          20842 non-null  object \n",
      " 25  Snow on Grnd (cm)          29767 non-null  float64\n",
      " 26  Snow on Grnd Flag          1537 non-null   object \n",
      " 27  Dir of Max Gust (10s deg)  56542 non-null  float64\n",
      " 28  Dir of Max Gust Flag       16839 non-null  object \n",
      " 29  Spd of Max Gust (km/h)     59837 non-null  object \n",
      " 30  Spd of Max Gust Flag       14749 non-null  object \n",
      "dtypes: float64(13), int64(3), object(15)\n",
      "memory usage: 23.6+ MB\n"
     ]
    }
   ],
   "source": [
    "df.info()"
   ]
  },
  {
   "cell_type": "markdown",
   "metadata": {},
   "source": [
    "## Problem Set 4X\n",
    "\n",
    "We're doing two data plots with reduced data. Use Pandas aggregation and grouping methods to reduce the data for each plot. \n",
    "\n",
    "Don't forget to deal with bad data values, but only from the columns we are plotting. Don't drop records with bad data if the columns we are using are good data."
   ]
  },
  {
   "cell_type": "markdown",
   "metadata": {},
   "source": [
    "### Problem 4.1\n",
    "\n",
    "* Plot the average (mean) monthly temperature for St. John's Airport weather station for each month of the year 2020\n",
    "    * Remove bad data from the dataframe, but only if the bad data is in the columns of interest.\n",
    "    * Use Pandas methods to reduce the data to the appropriate years\n",
    "    * Use Pandas methods to average the daily average for each month.\n",
    "    * Plot the data, Make sure the months in the correct direction.\n",
    "    * Add appropriate labels to the plot."
   ]
  },
  {
   "cell_type": "code",
   "execution_count": 116,
   "metadata": {},
   "outputs": [
    {
     "data": {
      "text/plain": [
       "array(['ARGENTIA (AUT)', 'BADGER (AUT)', \"BAY D'ESPOIR GEN STN\",\n",
       "       'BONAVISTA', 'BURGEO NL', 'BURNT POND', 'BUTLERVILLE',\n",
       "       'CAPE RACE (AUT)', 'CHARLESTON', 'CORMACK RCS', 'CORNER BROOK',\n",
       "       'COW HEAD', 'DANIELS HARBOUR', \"DANIEL'S HARBOUR\", 'DEER LAKE',\n",
       "       'DEER LAKE A', 'ENGLEE (AUT)', 'FEROLLE POINT (AUT)',\n",
       "       'GANDER INTL A', 'GANDER AIRPORT CS', 'HARBOUR BRETON',\n",
       "       'INDIAN BAY B.B.', 'LA SCIE', 'LETHBRIDGE', 'MIDDLE ARM',\n",
       "       'MILLERTOWN RCS', 'PLUM POINT', 'PORT AUX BASQUES',\n",
       "       'ROCKY HARBOUR CS', 'SAGONA ISLAND', 'ST. ANTHONY A', 'ST ANTHONY',\n",
       "       \"ST. JOHN'S INTL A\", 'ST JOHNS WEST CLIMATE', 'ST LAWRENCE',\n",
       "       'SOPS ARM WHITE BAY', 'STEPHENVILLE A', 'STEPHENVILLE RCS',\n",
       "       'SWIFT CURRENT', 'TERRA NOVA NAT PARK CS', 'TWILLINGATE (AUT)',\n",
       "       'WINTERLAND', 'WINTERLAND BRANCH HILL', 'WRECKHOUSE',\n",
       "       'GRATES COVE', 'POOLS ISLAND', 'MAIN BROOK', 'MARTICOT ISLAND',\n",
       "       \"MCIVER'S\", 'CAPE KAKKIVIAK', 'CARTWRIGHT A', 'CHURCHILL FALLS',\n",
       "       'CHURCHILL FALLS A', 'GOOSE A', 'GOOSE BAY A', 'HOPEDALE (AUT)',\n",
       "       'MAKKOVIK A', \"MARY'S HARBOUR A\", 'NAIN', 'NAIN A', 'SAGLEK',\n",
       "       'TUKIALIK BAY', 'WABUSH A'], dtype=object)"
      ]
     },
     "execution_count": 116,
     "metadata": {},
     "output_type": "execute_result"
    }
   ],
   "source": [
    "df['Station Name'].unique()"
   ]
  },
  {
   "cell_type": "code",
   "execution_count": 117,
   "metadata": {},
   "outputs": [],
   "source": [
    "df['Date/Time'] = pd.to_datetime(df['Date/Time'])"
   ]
  },
  {
   "cell_type": "code",
   "execution_count": 118,
   "metadata": {},
   "outputs": [],
   "source": [
    "st_johns_df = df[df['Station Name'] == \"ST. JOHN'S INTL A\"]"
   ]
  },
  {
   "cell_type": "code",
   "execution_count": 119,
   "metadata": {},
   "outputs": [],
   "source": [
    "st_johns_2020 = st_johns_df[st_johns_df['Date/Time'].dt.year == 2020]"
   ]
  },
  {
   "cell_type": "code",
   "execution_count": 120,
   "metadata": {},
   "outputs": [],
   "source": [
    "st_johns_2020 = st_johns_2020.dropna(subset=['Mean Temp (C)'])"
   ]
  },
  {
   "cell_type": "code",
   "execution_count": 121,
   "metadata": {},
   "outputs": [],
   "source": [
    "# Group by month and calculate the average temperature\n",
    "monthly_avg_temp = st_johns_2020.groupby('Month')['Mean Temp (C)'].mean().reset_index()"
   ]
  },
  {
   "cell_type": "code",
   "execution_count": 122,
   "metadata": {},
   "outputs": [
    {
     "data": {
      "image/png": "[encoded data removed]",
      "text/plain": [
       "<Figure size 1000x600 with 1 Axes>"
      ]
     },
     "metadata": {},
     "output_type": "display_data"
    }
   ],
   "source": [
    "plt.figure(figsize=(10, 6))\n",
    "plt.plot(\n",
    "    monthly_avg_temp['Mean Temp (C)'], \n",
    "    marker='o', \n",
    "    linestyle='-', \n",
    "    label=\"Average Mean Temp (°C)\"\n",
    ")\n",
    "plt.title(\"Average Monthly Temperature for St. John's Airport (2020)\")\n",
    "plt.xlabel('Month')\n",
    "plt.ylabel('Average Temperature (°C)')\n",
    "plt.xticks(range(1, 13), labels=[\"Jan\", \"Feb\", \"Mar\", \"Apr\", \"May\", \"Jun\", \"Jul\", \"Aug\", \"Sep\", \"Oct\", \"Nov\", \"Dec\"])\n",
    "plt.legend()\n",
    "plt.show()"
   ]
  },
  {
   "cell_type": "markdown",
   "metadata": {},
   "source": [
    "### Problem 4.2\n",
    "\n",
    "* Plot the monthly temperature as in problem 4.1 but indicate total rainfall for the month by the adjusting the size of the circles for the data points to be proportional to rainfall.\n",
    "    * This is similar to  problem 2.2, but use pandas operations to complete the data reduction.\n",
    "    * Missing rainfall data can be replaced by zero; keep the record for its useful temperature data.\n",
    "    * Use Pandas methods to reduce the data to the appropriate years\n",
    "    * Use Pandas methods to sum the total rainfall for each month.\n",
    "    * Plot the data, you can use a scatter plot if you prefer, since it will already have circular markers.\n",
    "    * Add appropriate labels to the plot."
   ]
  },
  {
   "cell_type": "code",
   "execution_count": 123,
   "metadata": {},
   "outputs": [
    {
     "name": "stdout",
     "output_type": "stream",
     "text": [
      "<class 'pandas.core.frame.DataFrame'>\n",
      "RangeIndex: 99657 entries, 0 to 99656\n",
      "Data columns (total 31 columns):\n",
      " #   Column                     Non-Null Count  Dtype         \n",
      "---  ------                     --------------  -----         \n",
      " 0   Longitude (x)              99657 non-null  float64       \n",
      " 1   Latitude (y)               99657 non-null  float64       \n",
      " 2   Station Name               99657 non-null  object        \n",
      " 3   Climate ID                 99657 non-null  object        \n",
      " 4   Date/Time                  99657 non-null  datetime64[ns]\n",
      " 5   Year                       99657 non-null  int64         \n",
      " 6   Month                      99657 non-null  int64         \n",
      " 7   Day                        99657 non-null  int64         \n",
      " 8   Data Quality               0 non-null      float64       \n",
      " 9   Max Temp (C)               89860 non-null  float64       \n",
      " 10  Max Temp Flag              6292 non-null   object        \n",
      " 11  Min Temp (C)               89834 non-null  float64       \n",
      " 12  Min Temp Flag              6307 non-null   object        \n",
      " 13  Mean Temp (C)              89733 non-null  float64       \n",
      " 14  Mean Temp Flag             6323 non-null   object        \n",
      " 15  Heat Deg Days (C)          89733 non-null  float64       \n",
      " 16  Heat Deg Days Flag         6323 non-null   object        \n",
      " 17  Cool Deg Days (C)          89733 non-null  float64       \n",
      " 18  Cool Deg Days Flag         6323 non-null   object        \n",
      " 19  Total Rain (mm)            23256 non-null  float64       \n",
      " 20  Total Rain Flag            8855 non-null   object        \n",
      " 21  Total Snow (cm)            23492 non-null  float64       \n",
      " 22  Total Snow Flag            8819 non-null   object        \n",
      " 23  Total Precip (mm)          71166 non-null  float64       \n",
      " 24  Total Precip Flag          20842 non-null  object        \n",
      " 25  Snow on Grnd (cm)          29767 non-null  float64       \n",
      " 26  Snow on Grnd Flag          1537 non-null   object        \n",
      " 27  Dir of Max Gust (10s deg)  56542 non-null  float64       \n",
      " 28  Dir of Max Gust Flag       16839 non-null  object        \n",
      " 29  Spd of Max Gust (km/h)     59837 non-null  object        \n",
      " 30  Spd of Max Gust Flag       14749 non-null  object        \n",
      "dtypes: datetime64[ns](1), float64(13), int64(3), object(14)\n",
      "memory usage: 23.6+ MB\n"
     ]
    }
   ],
   "source": [
    "df.info()"
   ]
  },
  {
   "cell_type": "code",
   "execution_count": 124,
   "metadata": {},
   "outputs": [
    {
     "name": "stderr",
     "output_type": "stream",
     "text": [
      "C:\\Users\\Mas85\\AppData\\Local\\Temp\\ipykernel_17852\\369944086.py:1: FutureWarning: A value is trying to be set on a copy of a DataFrame or Series through chained assignment using an inplace method.\n",
      "The behavior will change in pandas 3.0. This inplace method will never work because the intermediate object on which we are setting values always behaves as a copy.\n",
      "\n",
      "For example, when doing 'df[col].method(value, inplace=True)', try using 'df.method({col: value}, inplace=True)' or df[col] = df[col].method(value) instead, to perform the operation inplace on the original object.\n",
      "\n",
      "\n",
      "  st_johns_2020['Total Rain (mm)'].fillna(0, inplace=True)\n"
     ]
    }
   ],
   "source": [
    "st_johns_2020['Total Rain (mm)'].fillna(0, inplace=True)"
   ]
  },
  {
   "cell_type": "code",
   "execution_count": 125,
   "metadata": {},
   "outputs": [
    {
     "data": {
      "text/plain": [
       "0"
      ]
     },
     "execution_count": 125,
     "metadata": {},
     "output_type": "execute_result"
    }
   ],
   "source": [
    "st_johns_2020['Total Rain (mm)'].isna().sum()"
   ]
  },
  {
   "cell_type": "code",
   "execution_count": 126,
   "metadata": {},
   "outputs": [],
   "source": [
    "df['Date/Time'] = pd.to_datetime(df['Date/Time'])"
   ]
  },
  {
   "cell_type": "code",
   "execution_count": 127,
   "metadata": {},
   "outputs": [],
   "source": [
    "monthly_avg_temp = st_johns_2020.groupby('Month')['Mean Temp (C)'].mean().reset_index()"
   ]
  },
  {
   "cell_type": "code",
   "execution_count": 128,
   "metadata": {},
   "outputs": [],
   "source": [
    "monthly_rainfall = st_johns_2020.groupby('Month')['Total Rain (mm)'].sum().reset_index()"
   ]
  },
  {
   "cell_type": "code",
   "execution_count": 129,
   "metadata": {},
   "outputs": [
    {
     "data": {
      "image/png": "[encoded data removed]",
      "text/plain": [
       "<Figure size 1000x600 with 1 Axes>"
      ]
     },
     "metadata": {},
     "output_type": "display_data"
    }
   ],
   "source": [
    "plt.figure(figsize=(10, 6))\n",
    "plt.scatter(\n",
    "    monthly_data['Month'], \n",
    "    monthly_avg_temp['Mean Temp (C)'], \n",
    "    monthly_rainfall['Total Rain (mm)'],\n",
    "    alpha=0.6, \n",
    "    edgecolor='k'\n",
    ")\n",
    "\n",
    "plt.title(\"Average Monthly Temperature for St. John's Airport (2020) with Rainfall\")\n",
    "plt.xlabel('Month')\n",
    "plt.ylabel('Average Temperature (°C)')\n",
    "plt.xticks(range(1, 13), labels=[\"Jan\", \"Feb\", \"Mar\", \"Apr\", \"May\", \"Jun\", \"Jul\", \"Aug\", \"Sep\", \"Oct\", \"Nov\", \"Dec\"])\n",
    "plt.show()"
   ]
  },
  {
   "cell_type": "markdown",
   "metadata": {},
   "source": [
    "# Attributions\n",
    "\n",
    "Be sure to add your own sources or indicate you have none to add.  Sources can be web sites, text materials, and so on. They do not have to be hyperlinks. Other people are also sources, but they are not allowed for in class credit problems.\n",
    "\n",
    "| Source | What is it | How used |\n",
    "|--|--|--|\n",
    "| <https://www.kaggle.com/datasets/jash312/canada-daily-weather-data-from-2018-to-2023> | data sets | taken directly as csv files  |\n",
    "| <https://www.w3schools.com/python/matplotlib_labels.asp> | Plot | taken sample code  |\n",
    "|  Note 4 & 5 | Code sample  | taken Idea  |\n"
   ]
  },
  {
   "cell_type": "markdown",
   "metadata": {},
   "source": [
    "# Submission\n",
    "\n",
    "Submission mechanism I want for the course is not yet available. So for now, upload your soution *inclass4X.ipynb* file to the [Brightspace Assignment folder](https://online.mun.ca/d2l/lms/dropbox/user/folders_list.d2l?ou=603130&isprv=0).\n",
    "\n",
    "Submission will close at 4 PM. Make sure to submit whatever you have completed at that time.\n"
   ]
  }
 ],
 "metadata": {
  "kernelspec": {
   "display_name": "Python 3 (ipykernel)",
   "language": "python",
   "name": "python3"
  },
  "language_info": {
   "codemirror_mode": {
    "name": "ipython",
    "version": 3
   },
   "file_extension": ".py",
   "mimetype": "text/x-python",
   "name": "python",
   "nbconvert_exporter": "python",
   "pygments_lexer": "ipython3",
   "version": "3.9.21"
  }
 },
 "nbformat": 4,
 "nbformat_minor": 4
}
