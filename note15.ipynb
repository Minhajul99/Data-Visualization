{
 "cells": [
  {
   "cell_type": "markdown",
   "metadata": {
    "slideshow": {
     "slide_type": ""
    },
    "tags": []
   },
   "source": [
    "# COMP 6934 W 25 Note 15\n",
    "\n",
    "Munzner's *How* design technique and methods - Part I.\n",
    "\n",
    "Continuing [Tamara Munzner's text](https://www.cs.ubc.ca/~tmm/vadbook/). Chapter 5 and onward develops the *How* portion of her three-step approach.\n",
    "\n",
    "I characterize the *how* portion as:\n",
    "* The arrangement of perceptual/visual elements called *marks* and *channels*\n",
    "    * into meaningful patterns\n",
    "    * often following well-understood or accepted designs with established visual conventions called *idioms*\n",
    "    * with the guidance of her *How* method categories (Encode, Manipulate, Facet, Reduce and their sub-categories)\n",
    "\n",
    "Applying her methods requires both understanding of the What-Why-How categories and their application, but also exposure to and experience with the widest variety of Idioms to generate design ideas.  Her methods can help discipline and organize your design and analysis activities, but they cannot generate design ideas for you.  \n",
    "\n",
    "We will start with marks and channels in this presentation."
   ]
  },
  {
   "cell_type": "markdown",
   "metadata": {
    "slideshow": {
     "slide_type": ""
    },
    "tags": []
   },
   "source": [
    "# Marks and Channels\n",
    "\n",
    "Chapter 5 of Munzner\n",
    "* Following her slides and materials\n",
    "* Note that this encompasses human perception\n",
    "* With the goal of exploiting our natural perceptual system to produce meaningful and effective visualization."
   ]
  },
  {
   "cell_type": "code",
   "execution_count": 14,
   "metadata": {},
   "outputs": [],
   "source": [
    "# code to use Tamara Munzner's book slides\n",
    "# This the slide viewer mentioned earlier.\n",
    "from IPython.display import Image, display\n",
    "\n",
    "folder=\"slides2021munzner/\"\n",
    "def Munzner21slide(no):  \n",
    "    return folder+\"munzner--{:03d}.jpg\".format(no)\n",
    "\n",
    "slide_no=0\n",
    "chap5select = [103, 106, 301, 140] + list(range(143,167)) + list(range(169,195)) \n",
    "slide_list=[Munzner21slide(v) for v in chap5select]"
   ]
  },
  {
   "cell_type": "code",
   "execution_count": 15,
   "metadata": {
    "scrolled": true
   },
   "outputs": [
    {
     "data": {
      "text/html": [
       "<img src=\"slides2021munzner/munzner--103.jpg\"/>"
      ],
      "text/plain": [
       "<IPython.core.display.Image object>"
      ]
     },
     "metadata": {},
     "output_type": "display_data"
    }
   ],
   "source": [
    "# Show the slide and increment slide_no for the next one.\n",
    "display(Image(url=slide_list[slide_no]))\n",
    "slide_no = (slide_no +1) % len(slide_list)\n"
   ]
  },
  {
   "cell_type": "markdown",
   "metadata": {
    "slideshow": {
     "slide_type": ""
    },
    "tags": []
   },
   "source": [
    "# Rules of Thumb\n",
    "\n",
    "Chapter 6 of Munzner lists a few \"rules of thumb\" for vis designs\n",
    "* She motivates these with previous chapter on channels, etc.\n",
    "* These \"rules of thumb\" are similar to guidelines and rules of thumb from other experts/authors. So they are good general knowledge.\n"
   ]
  },
  {
   "cell_type": "code",
   "execution_count": 16,
   "metadata": {
    "editable": true,
    "slideshow": {
     "slide_type": ""
    },
    "tags": []
   },
   "outputs": [],
   "source": [
    "slide_no=0\n",
    "chap6select = [196] + list(range(199,207)) + [210] + list(range(213,239))\n",
    "slide_list=[Munzner21slide(v) for v in chap6select]"
   ]
  },
  {
   "cell_type": "code",
   "execution_count": 17,
   "metadata": {},
   "outputs": [
    {
     "data": {
      "text/html": [
       "<img src=\"slides2021munzner/munzner--196.jpg\"/>"
      ],
      "text/plain": [
       "<IPython.core.display.Image object>"
      ]
     },
     "metadata": {},
     "output_type": "display_data"
    }
   ],
   "source": [
    "# Show the slide and increment slide_no for the next one.\n",
    "display(Image(url=slide_list[slide_no]))\n",
    "slide_no = (slide_no +1) % len(slide_list)"
   ]
  },
  {
   "cell_type": "code",
   "execution_count": 9,
   "metadata": {},
   "outputs": [],
   "source": [
    "slide_no -= 2 # backup slide no."
   ]
  }
 ],
 "metadata": {
  "kernelspec": {
   "display_name": "Python 3 (ipykernel)",
   "language": "python",
   "name": "python3"
  },
  "language_info": {
   "codemirror_mode": {
    "name": "ipython",
    "version": 3
   },
   "file_extension": ".py",
   "mimetype": "text/x-python",
   "name": "python",
   "nbconvert_exporter": "python",
   "pygments_lexer": "ipython3",
   "version": "3.9.21"
  }
 },
 "nbformat": 4,
 "nbformat_minor": 4
}
