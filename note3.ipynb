{
 "cells": [
  {
   "cell_type": "markdown",
   "id": "705deb47-f322-4ff8-9dd2-7f6c0327785b",
   "metadata": {},
   "source": [
    "## Comp 6934 Winter 2025 Note 3\n",
    "\n",
    "These notes are modified from notes by Dr. Terrance Tricco.\n",
    "\n",
    "by E Brown."
   ]
  },
  {
   "cell_type": "markdown",
   "id": "0e070e40-de27-4533-8bce-27c7d469f595",
   "metadata": {},
   "source": [
    "In this notebook, we will introduce the pandas data library and focus on the following concepts:\n",
    "- How to load data\n",
    "- DataFrame and Series object types\n",
    "- Explore data in pandas\n",
    "- Access subsets of your data through filtering and slicing\n",
    "- Sort your data\n",
    "- Handle bad data (nulls, NaNs, etc)\n",
    "- Using pandas in matplotlib\n",
    "  \n",
    "Data sets:\n",
    "\n",
    "* <https://www.kaggle.com/datasets/rsrishav/youtube-trending-video-dataset>\n",
    "    * You only need the CA file for this notebook examples\n",
    "    * A reduced data set is provided with this notebook to help with loading and execution times.\n",
    "* <https://www.kaggle.com/datasets/jash312/canada-daily-weather-data-from-2018-to-2023>\n",
    "    "
   ]
  },
  {
   "cell_type": "markdown",
   "id": "acae624d",
   "metadata": {},
   "source": [
    "## Loading the pandas library\n",
    "\n",
    "pandas is a data manipulation and analysis library. Typically pandas in imported under the symbol ``pd``. You should adopt this convention.\n",
    "\n",
    "If you have installed the numpy package in your python environemnt, the installation should have included the pandas library."
   ]
  },
  {
   "cell_type": "code",
   "execution_count": null,
   "id": "41921301",
   "metadata": {},
   "outputs": [],
   "source": [
    "import pandas as pd"
   ]
  },
  {
   "cell_type": "markdown",
   "id": "ec82c416",
   "metadata": {},
   "source": [
    "## Loading Data"
   ]
  },
  {
   "cell_type": "markdown",
   "id": "68c47d93",
   "metadata": {},
   "source": [
    "Reading data is straightforward. pandas can read many data formats, such as .csv, .xlsx, and many more. The data format will be parsed and stores in a data structure know as a pandas **DataFrame**.\n",
    "\n",
    "Note that this is quite a large data collection and could take a few moments to load."
   ]
  },
  {
   "cell_type": "code",
   "execution_count": null,
   "id": "fa2eb8a2",
   "metadata": {},
   "outputs": [],
   "source": [
    "df = pd.read_csv('datasets/CA_videos.csv')\n",
    "type(df) # what kind of object is it?"
   ]
  },
  {
   "cell_type": "markdown",
   "id": "32ec2a2f",
   "metadata": {},
   "source": [
    "Before you start doing interesting things with your data, you should investigate your data set and make sure you understand its basics.\n",
    "\n",
    "What is this data set that we've loaded? You can check the top rows of your data set using method ``head()`` and the bottom rows using ``tail()``."
   ]
  },
  {
   "cell_type": "code",
   "execution_count": null,
   "id": "bd9e6a22",
   "metadata": {},
   "outputs": [],
   "source": [
    "df.head()"
   ]
  },
  {
   "cell_type": "code",
   "execution_count": null,
   "id": "2de8d0ea",
   "metadata": {},
   "outputs": [],
   "source": [
    "df.tail()"
   ]
  },
  {
   "cell_type": "markdown",
   "id": "0105a170",
   "metadata": {},
   "source": [
    "You can see that the DataFrame is effectively a two-dimensional table. There are rows of data, and each column has a title. The pandas DataFrame structure mimics similar data structures that have been found useful in other languages (R in particular)\n",
    "\n",
    "The pandas dataframe has methods that are helpful for data analysis and exploration of the dataset, including methods to *nicely* display data in a text format."
   ]
  },
  {
   "cell_type": "markdown",
   "id": "0ed26d00",
   "metadata": {},
   "source": [
    "This data set has information on YouTube videos. There are columns that have the title of the video, the video's channel, when it was first published, and when it became trending, along with other information that may or may not be useful or interesting."
   ]
  },
  {
   "cell_type": "markdown",
   "id": "8291fc1c",
   "metadata": {},
   "source": [
    "## DataFrames and Series"
   ]
  },
  {
   "cell_type": "markdown",
   "id": "95263954-4b33-45de-81d0-26a3f97a868f",
   "metadata": {},
   "source": [
    "You can ask for the column headers in the DataFrame:"
   ]
  },
  {
   "cell_type": "code",
   "execution_count": null,
   "id": "d26024f1-b5c6-46d5-84dd-7c35169bb413",
   "metadata": {},
   "outputs": [],
   "source": [
    "df.keys()"
   ]
  },
  {
   "cell_type": "markdown",
   "id": "259dd7b2",
   "metadata": {},
   "source": [
    "You can access the columns in your DataFrame by just indexing by its column name."
   ]
  },
  {
   "cell_type": "code",
   "execution_count": null,
   "id": "0f300808",
   "metadata": {},
   "outputs": [],
   "source": [
    "df['title']"
   ]
  },
  {
   "cell_type": "code",
   "execution_count": null,
   "id": "128cf04a",
   "metadata": {},
   "outputs": [],
   "source": [
    "s = df['title']"
   ]
  },
  {
   "cell_type": "code",
   "execution_count": null,
   "id": "5d713794",
   "metadata": {
    "scrolled": true
   },
   "outputs": [],
   "source": [
    "type(s)"
   ]
  },
  {
   "cell_type": "markdown",
   "id": "c1581a33",
   "metadata": {},
   "source": [
    "If DataFrames are like two-dimensional arrays, then **Series** are the pandas equivalent of one-dimensional arrays."
   ]
  },
  {
   "cell_type": "markdown",
   "id": "7efa6de4",
   "metadata": {},
   "source": [
    "Series and DataFrames are closely related. It is helpful to think of your DataFrame as a bunch of Series glued together, with each column of your DataFrame being a Series."
   ]
  },
  {
   "cell_type": "markdown",
   "id": "18b4bdf8",
   "metadata": {},
   "source": [
    "## Data exploration\n",
    "\n",
    "You have some data. Let's explore it a little bit to understand it better.\n",
    "\n",
    "The best first steps are often using ``info()``, ``describe()``, ``value_counts()``, and ``unique()`` and ``nunique()``. Let's try these on our data set."
   ]
  },
  {
   "cell_type": "markdown",
   "id": "87522511",
   "metadata": {},
   "source": [
    "``info()`` is great for getting an overview on your data. \n",
    "- Are there missing values (nulls, NaNs)? \n",
    "- What data types are stored (int, float, bool, str, etc)?"
   ]
  },
  {
   "cell_type": "code",
   "execution_count": null,
   "id": "fe62830b",
   "metadata": {},
   "outputs": [],
   "source": [
    "df.info()"
   ]
  },
  {
   "cell_type": "markdown",
   "id": "f75d27a3",
   "metadata": {},
   "source": [
    "``describe()`` will calculate statistics on the numeric data fields. It will return the average (mean), minimum and maximum values. \n",
    "\n",
    "It also returns the quartiles. These show the percentage of your data that is below each threshold. For example, the 25th percentile for views is approximately 419,000, meaning that 25% of the videos in the data set have fewer than this number of views."
   ]
  },
  {
   "cell_type": "code",
   "execution_count": null,
   "id": "278e250d",
   "metadata": {
    "scrolled": true
   },
   "outputs": [],
   "source": [
    "df.describe()"
   ]
  },
  {
   "cell_type": "markdown",
   "id": "e930ccc9",
   "metadata": {},
   "source": [
    "You can already see interesting stories start to emerge. \n",
    "\n",
    "Most videos have several hundred thousand to a few million views. The most viewed trending video has over 100 M! We see similar jumps in the order of magnitude of number of likes and comments for the top end videos.\n",
    "\n",
    "These could also be an error in the data set, which occurs with alarming regularity, especially if you don't know how the data was collected."
   ]
  },
  {
   "cell_type": "markdown",
   "id": "516bbc1b",
   "metadata": {},
   "source": [
    "``value_counts()`` is a very useful function. It will return the number of times each value has appeared in the data set."
   ]
  },
  {
   "cell_type": "code",
   "execution_count": null,
   "id": "5949d3ab",
   "metadata": {
    "scrolled": true
   },
   "outputs": [],
   "source": [
    "df['channel_title'].value_counts().head(20)"
   ]
  },
  {
   "cell_type": "markdown",
   "id": "e38e0d42",
   "metadata": {},
   "source": [
    "``nunique()`` returns the number of unique values present."
   ]
  },
  {
   "cell_type": "code",
   "execution_count": null,
   "id": "8dc46fce",
   "metadata": {},
   "outputs": [],
   "source": [
    "df['channel_title'].nunique()"
   ]
  },
  {
   "cell_type": "code",
   "execution_count": null,
   "id": "d4674c36",
   "metadata": {},
   "outputs": [],
   "source": [
    "df['video_id'].nunique()"
   ]
  },
  {
   "cell_type": "markdown",
   "id": "7987ddf1",
   "metadata": {},
   "source": [
    "For example, there are 3781 unique channels in the data set, out of a total of 13 194 (unique) trending videos. Therefore simple math says that the channels in this data have about 3.5 trending videos on average."
   ]
  },
  {
   "cell_type": "markdown",
   "id": "b3cd9cdb",
   "metadata": {},
   "source": [
    "``unique()`` returns a list of all the unique values in the data. For example, calling ``unique()`` on the channel titles will give a list of all the unique channel names. There will not be any duplicates in that list."
   ]
  },
  {
   "cell_type": "code",
   "execution_count": null,
   "id": "d4d3798e",
   "metadata": {
    "scrolled": true
   },
   "outputs": [],
   "source": [
    "s = df['channel_title'].unique()\n",
    "type(s)"
   ]
  },
  {
   "cell_type": "markdown",
   "id": "271dcab7",
   "metadata": {},
   "source": [
    "In this case, pandas has not returned a `Series`. Instead, it is a `numpy.ndarray`."
   ]
  },
  {
   "cell_type": "code",
   "execution_count": null,
   "id": "f45c269b",
   "metadata": {
    "scrolled": true
   },
   "outputs": [],
   "source": [
    "s = df['channel_title'].unique()"
   ]
  },
  {
   "cell_type": "markdown",
   "id": "403e79ed",
   "metadata": {},
   "source": [
    "We could convert this to a Series if we wanted (with a new index)."
   ]
  },
  {
   "cell_type": "code",
   "execution_count": null,
   "id": "139c3bff-d940-4be5-8532-7dad302510ba",
   "metadata": {},
   "outputs": [],
   "source": [
    "r = pd.Series(s)\n",
    "type(r)"
   ]
  },
  {
   "cell_type": "code",
   "execution_count": null,
   "id": "83550fab",
   "metadata": {},
   "outputs": [],
   "source": [
    "r.head()"
   ]
  },
  {
   "cell_type": "markdown",
   "id": "0466744d",
   "metadata": {},
   "source": [
    "## Indexing - How to access your data"
   ]
  },
  {
   "cell_type": "markdown",
   "id": "1dd65af8",
   "metadata": {},
   "source": [
    "We have already used one way to access data in the DataFrame. We can index using the column name with subscript indexing syntax:"
   ]
  },
  {
   "cell_type": "code",
   "execution_count": null,
   "id": "6dbb3b3e",
   "metadata": {},
   "outputs": [],
   "source": [
    "df['views']"
   ]
  },
  {
   "cell_type": "markdown",
   "id": "35c2a724",
   "metadata": {},
   "source": [
    "Unlike python dictionaries, you can also access DataFrame columns using the dot attribute selector operator:"
   ]
  },
  {
   "cell_type": "code",
   "execution_count": null,
   "id": "f634a59f-3abf-4be4-992f-3c9e3288def5",
   "metadata": {},
   "outputs": [],
   "source": [
    "df.views"
   ]
  },
  {
   "cell_type": "markdown",
   "id": "4f3be827",
   "metadata": {},
   "source": [
    "These two accessors produce the same value, but you might have to use the subscript syntax if your column name includes spaces, periods or other special characters, or if your column name is stored in a string variable or is a calculated expression."
   ]
  },
  {
   "cell_type": "markdown",
   "id": "7e2f22f1",
   "metadata": {},
   "source": [
    "You can also use a list of column names, instead of a single name."
   ]
  },
  {
   "cell_type": "code",
   "execution_count": null,
   "id": "8b7bd076",
   "metadata": {},
   "outputs": [],
   "source": [
    "columns = ['title', 'channel_title', 'views']\n",
    "\n",
    "df[columns]"
   ]
  },
  {
   "cell_type": "code",
   "execution_count": null,
   "id": "c6958b74",
   "metadata": {},
   "outputs": [],
   "source": [
    "columns = ['views', 'title']\n",
    "\n",
    "df[columns]"
   ]
  },
  {
   "cell_type": "markdown",
   "id": "b8f5ea83",
   "metadata": {},
   "source": [
    "**The above methods are the most common ways to access your data.**"
   ]
  },
  {
   "cell_type": "markdown",
   "id": "6c8f8342",
   "metadata": {},
   "source": [
    "## Filtering and Slicing - Conditional Access"
   ]
  },
  {
   "cell_type": "markdown",
   "id": "4f552f0c",
   "metadata": {},
   "source": [
    "Filtering and slicing your data is easier in pandas than with standard python structures. You can easily use conditionals to filter down to specific subsets of your data."
   ]
  },
  {
   "cell_type": "markdown",
   "id": "023ffe29",
   "metadata": {},
   "source": [
    "What if we want only the videos that have more than 80M views?"
   ]
  },
  {
   "cell_type": "code",
   "execution_count": null,
   "id": "066fb271",
   "metadata": {
    "scrolled": true
   },
   "outputs": [],
   "source": [
    "df[df['views'] > 80000000]"
   ]
  },
  {
   "cell_type": "markdown",
   "id": "871f5b96",
   "metadata": {},
   "source": [
    "We can look at one particular video. And learn that this video was trending for 7 days in total."
   ]
  },
  {
   "cell_type": "code",
   "execution_count": null,
   "id": "63fd2a1f",
   "metadata": {
    "scrolled": true
   },
   "outputs": [],
   "source": [
    "df[df['video_id'] == 'CocEMWdc7Ck']"
   ]
  },
  {
   "cell_type": "markdown",
   "id": "a330818e",
   "metadata": {},
   "source": [
    "We can also do more general string comparisons. Using ``.str``, we can access a number of string functions, such as ``.str.contains()``.\n",
    "\n",
    "There are a large number of other string operations, like ``.str.endswith()``, ``.str.lower()``, ``.str.split()``, etc. These can be found in the API documentation on Series: https://pandas.pydata.org/pandas-docs/stable/reference/series.html"
   ]
  },
  {
   "cell_type": "code",
   "execution_count": null,
   "id": "17f7e098",
   "metadata": {
    "scrolled": true
   },
   "outputs": [],
   "source": [
    "df[df['title'].str.contains('Barbie')]"
   ]
  },
  {
   "cell_type": "markdown",
   "id": "09362751",
   "metadata": {},
   "source": [
    "As well as filtering your data set by a list of values."
   ]
  },
  {
   "cell_type": "code",
   "execution_count": null,
   "id": "44cfa936",
   "metadata": {},
   "outputs": [],
   "source": [
    "df[df.channel_title.str.contains('Kurzgesagt')]"
   ]
  },
  {
   "cell_type": "code",
   "execution_count": null,
   "id": "27dcd4d4",
   "metadata": {
    "scrolled": true
   },
   "outputs": [],
   "source": [
    "science_channels = ['Kurzgesagt – In a Nutshell', 'Veritasium', 'SmarterEveryDay']\n",
    "\n",
    "df[df['channel_title'].isin(science_channels)]"
   ]
  },
  {
   "cell_type": "markdown",
   "id": "2524ea6f",
   "metadata": {},
   "source": [
    "And you can combine filters.\n",
    "\n",
    "Let's find trending videos that have both 'Avengers' in their title *and* have more than 50M views."
   ]
  },
  {
   "cell_type": "code",
   "execution_count": null,
   "id": "e8786721",
   "metadata": {
    "scrolled": true
   },
   "outputs": [],
   "source": [
    "df[(df['title'].str.contains('Barbie')) & (df['views'] > 10000000)]"
   ]
  },
  {
   "cell_type": "markdown",
   "id": "4949af80",
   "metadata": {},
   "source": [
    "Let's find trending videos that have more than 20M likes *or* more than 750k comments."
   ]
  },
  {
   "cell_type": "code",
   "execution_count": null,
   "id": "ac0e0101",
   "metadata": {
    "scrolled": true
   },
   "outputs": [],
   "source": [
    "df[(df['likes'] > 20000000) | (df['comment_count'] > 750000)]"
   ]
  },
  {
   "cell_type": "code",
   "execution_count": null,
   "id": "7e1fa021",
   "metadata": {
    "scrolled": true
   },
   "outputs": [],
   "source": [
    "len(df)"
   ]
  },
  {
   "cell_type": "markdown",
   "id": "6862a77a",
   "metadata": {},
   "source": [
    "**Important:** The above slicing and filtering does not modify the original DataFrame! They return new DataFrame objects. You will need to assign them if you want to keep the result."
   ]
  },
  {
   "cell_type": "code",
   "execution_count": null,
   "id": "12a101c1",
   "metadata": {
    "scrolled": true
   },
   "outputs": [],
   "source": [
    "df[df.title.str.contains('Barbie')]"
   ]
  },
  {
   "cell_type": "code",
   "execution_count": null,
   "id": "b55d76c5",
   "metadata": {
    "scrolled": true
   },
   "outputs": [],
   "source": [
    "df"
   ]
  },
  {
   "cell_type": "code",
   "execution_count": null,
   "id": "f2c3f829",
   "metadata": {},
   "outputs": [],
   "source": [
    "df_barbie = df[(df['title'].str.contains('Barbie')) & (df['views'] > 10000000)]"
   ]
  },
  {
   "cell_type": "code",
   "execution_count": null,
   "id": "162f45c1",
   "metadata": {},
   "outputs": [],
   "source": [
    "df_barbie"
   ]
  },
  {
   "cell_type": "markdown",
   "id": "6b3e4ac2",
   "metadata": {},
   "source": [
    "## Integer and Index based accessors"
   ]
  },
  {
   "cell_type": "markdown",
   "id": "a7dcdbe4",
   "metadata": {},
   "source": [
    "pandas does include other ways to index into your data. You may sometimes need to use them.\n",
    "\n",
    "``.iloc[]`` accesses rows and columns by their integer position. ``.loc[]`` accesses rows and columns by the index value and column name."
   ]
  },
  {
   "cell_type": "code",
   "execution_count": null,
   "id": "bc3e8bc8",
   "metadata": {},
   "outputs": [],
   "source": [
    "df.head()"
   ]
  },
  {
   "cell_type": "code",
   "execution_count": null,
   "id": "3e6eddcb",
   "metadata": {},
   "outputs": [],
   "source": [
    "df.iloc[0]"
   ]
  },
  {
   "cell_type": "code",
   "execution_count": null,
   "id": "c0cf3657",
   "metadata": {},
   "outputs": [],
   "source": [
    "df.iloc[0, 0]"
   ]
  },
  {
   "cell_type": "code",
   "execution_count": null,
   "id": "7da12e68",
   "metadata": {},
   "outputs": [],
   "source": [
    "df.iloc[4:7]"
   ]
  },
  {
   "cell_type": "code",
   "execution_count": null,
   "id": "4f561c0a",
   "metadata": {},
   "outputs": [],
   "source": [
    "df.iloc[1:3, 1:4]"
   ]
  },
  {
   "cell_type": "markdown",
   "id": "0ffaf6e4",
   "metadata": {},
   "source": [
    "``.loc[]`` works by specifying the labels of the index (the numbers on the far left) and the column names."
   ]
  },
  {
   "cell_type": "code",
   "execution_count": null,
   "id": "7d3c10b8",
   "metadata": {},
   "outputs": [],
   "source": [
    "df.loc[0]"
   ]
  },
  {
   "cell_type": "code",
   "execution_count": null,
   "id": "81247b2a",
   "metadata": {},
   "outputs": [],
   "source": [
    "df.loc[0, 'video_id']"
   ]
  },
  {
   "cell_type": "code",
   "execution_count": null,
   "id": "69874e4b",
   "metadata": {},
   "outputs": [],
   "source": [
    "df_tmp = df.loc[[1,2], ['video_id', 'title', 'channel_title']]"
   ]
  },
  {
   "cell_type": "code",
   "execution_count": null,
   "id": "fdd451eb",
   "metadata": {},
   "outputs": [],
   "source": [
    "df_tmp"
   ]
  },
  {
   "cell_type": "code",
   "execution_count": null,
   "id": "2ced63b1",
   "metadata": {},
   "outputs": [],
   "source": [
    "df_tmp.loc[1]"
   ]
  },
  {
   "cell_type": "code",
   "execution_count": null,
   "id": "0836045b",
   "metadata": {},
   "outputs": [],
   "source": [
    "df.head()"
   ]
  },
  {
   "cell_type": "markdown",
   "id": "5b3f5f88",
   "metadata": {},
   "source": [
    "Keep in mind that ``.loc[]`` is *label-based* access. In this case, the index labels are also the row numbers (0, 1, 2, etc). That doesn't have to be the case. The index could take on any value. We will see examples of this later."
   ]
  },
  {
   "cell_type": "markdown",
   "id": "75159c4f",
   "metadata": {},
   "source": [
    "Index labels can also be obtained by using an appropriate filter."
   ]
  },
  {
   "cell_type": "code",
   "execution_count": null,
   "id": "133a288a",
   "metadata": {},
   "outputs": [],
   "source": [
    "df.loc[df.channel_title == 'Warner Bros. Pictures', ['video_id', 'title', 'channel_title']]"
   ]
  },
  {
   "cell_type": "markdown",
   "id": "e697daa0",
   "metadata": {},
   "source": [
    "Use loc (and iloc) to setting values on slices of the data."
   ]
  },
  {
   "cell_type": "code",
   "execution_count": null,
   "id": "14dfb722",
   "metadata": {},
   "outputs": [],
   "source": [
    "df.loc[df.channel_title == 'Warner Bros. Pictures', 'video_id'] = 5.0"
   ]
  },
  {
   "cell_type": "markdown",
   "id": "634897b7",
   "metadata": {},
   "source": [
    "Trying to set a value on a slice will throw a warning because the slicing operation returns a copy. Modifying the copy does not modify the original data. See the example below."
   ]
  },
  {
   "cell_type": "code",
   "execution_count": null,
   "id": "155a0beb",
   "metadata": {},
   "outputs": [],
   "source": [
    "df[df.channel_title == 'Warner Bros. Pictures']['video_id'] = 10.0"
   ]
  },
  {
   "cell_type": "code",
   "execution_count": null,
   "id": "30a97dd0",
   "metadata": {
    "scrolled": true
   },
   "outputs": [],
   "source": [
    "df[df.channel_title == 'Warner Bros. Pictures']  # video_id not updated"
   ]
  },
  {
   "cell_type": "markdown",
   "id": "8ec91ff0",
   "metadata": {},
   "source": [
    "Use loc to set values on slices of a DataFrame."
   ]
  },
  {
   "cell_type": "markdown",
   "id": "c49aa901",
   "metadata": {},
   "source": [
    "## Sorting\n",
    "\n"
   ]
  },
  {
   "cell_type": "markdown",
   "id": "9d8a85f8",
   "metadata": {},
   "source": [
    "``sort_values()`` can re-order your DataFrame by whichever column you specify.\n",
    "\n",
    "Import parameters are:\n",
    "- ``by=`` which is the column name(s) you want to sort by.\n",
    "- ``ascending=`` which takes a True/False for whether you want to sort in ascending or descending order.\n",
    "- ``ignore_index=`` will reset the index.\n"
   ]
  },
  {
   "cell_type": "code",
   "execution_count": null,
   "id": "f98bab4a",
   "metadata": {
    "scrolled": true
   },
   "outputs": [],
   "source": [
    "df.sort_values(by='views', ascending=False)  # index keeps original value"
   ]
  },
  {
   "cell_type": "code",
   "execution_count": null,
   "id": "c8239e9c",
   "metadata": {
    "scrolled": true
   },
   "outputs": [],
   "source": [
    "df.sort_values(by='views', ascending=False, ignore_index=True)  # index is reset"
   ]
  },
  {
   "cell_type": "markdown",
   "id": "a2288b23",
   "metadata": {},
   "source": [
    "## Assigning new data"
   ]
  },
  {
   "cell_type": "markdown",
   "id": "adbd0789",
   "metadata": {},
   "source": [
    "We can create new columns in our data set quite straightforwardly. When you try to assign data to a column that doesn't exist, pandas will just create it for you."
   ]
  },
  {
   "cell_type": "code",
   "execution_count": null,
   "id": "06737cdf",
   "metadata": {},
   "outputs": [],
   "source": [
    "df.info()"
   ]
  },
  {
   "cell_type": "code",
   "execution_count": null,
   "id": "1f8b7056",
   "metadata": {},
   "outputs": [],
   "source": [
    "df['new_column'] = 5"
   ]
  },
  {
   "cell_type": "code",
   "execution_count": null,
   "id": "2f7879aa",
   "metadata": {},
   "outputs": [],
   "source": [
    "df.info()"
   ]
  },
  {
   "cell_type": "code",
   "execution_count": null,
   "id": "1a7ef11e",
   "metadata": {},
   "outputs": [],
   "source": [
    "df[['new_column', 'views', 'likes']]"
   ]
  },
  {
   "cell_type": "markdown",
   "id": "fcfab050",
   "metadata": {},
   "source": [
    "In the above case, we have created a new column in which every value is 5.\n",
    "\n",
    "Let's create a column that is derived from the existing columns. In this case, we can calculate the ratio of likes to views."
   ]
  },
  {
   "cell_type": "code",
   "execution_count": null,
   "id": "335a7fb2",
   "metadata": {},
   "outputs": [],
   "source": [
    "df['like_ratio'] = df['likes'] / df['views']"
   ]
  },
  {
   "cell_type": "code",
   "execution_count": null,
   "id": "789aae86",
   "metadata": {},
   "outputs": [],
   "source": [
    "df"
   ]
  },
  {
   "cell_type": "markdown",
   "id": "ef12db4f",
   "metadata": {},
   "source": [
    "# Nulls, NaNs and infs"
   ]
  },
  {
   "cell_type": "markdown",
   "id": "75b16558",
   "metadata": {},
   "source": [
    "Working with NaNs or infinite numbers can cause many problems. What can we do?"
   ]
  },
  {
   "cell_type": "code",
   "execution_count": null,
   "id": "ab6b85f1",
   "metadata": {},
   "outputs": [],
   "source": [
    "df.info()"
   ]
  },
  {
   "cell_type": "markdown",
   "id": "9dc9cae9",
   "metadata": {},
   "source": [
    "The description column has Null or NaN for 353 rows. The like_ratio column also has a number of infs caused by divide by 0 errors. "
   ]
  },
  {
   "cell_type": "code",
   "execution_count": null,
   "id": "4efb3da3",
   "metadata": {},
   "outputs": [],
   "source": [
    "df['like_ratio'].max()"
   ]
  },
  {
   "cell_type": "code",
   "execution_count": null,
   "id": "ba849e39",
   "metadata": {},
   "outputs": [],
   "source": [
    "df[df['like_ratio'] == df['like_ratio'].max()]"
   ]
  },
  {
   "cell_type": "markdown",
   "id": "38ca6761",
   "metadata": {},
   "source": [
    "One option is to filter your data set to avoid bad data. \n",
    "\n",
    "pandas comes with ``isna()``, ``isnull()``, ``notna()``, ``notnull()``, ``dropna()`` and ``fillna()`` methods. We can use these to remove the bad data in the description column."
   ]
  },
  {
   "cell_type": "code",
   "execution_count": null,
   "id": "20b79c59",
   "metadata": {
    "scrolled": true
   },
   "outputs": [],
   "source": [
    "df = df.dropna()"
   ]
  },
  {
   "cell_type": "code",
   "execution_count": null,
   "id": "3aa511e1",
   "metadata": {},
   "outputs": [],
   "source": [
    "df.info()"
   ]
  },
  {
   "cell_type": "markdown",
   "id": "03a5c23f",
   "metadata": {},
   "source": [
    "Calling ``dropna()`` has removed all rows where a NaN or Null is present."
   ]
  },
  {
   "cell_type": "markdown",
   "id": "a6d314be",
   "metadata": {},
   "source": [
    "**Important:** remember that filtering and slicing return new DataFrames. The original DataFrame is not modified. You will need to assign this DataFrame if you want to keep it. In this case, we will re-assign over our original DataFrame."
   ]
  },
  {
   "cell_type": "markdown",
   "id": "ee0cd4f7",
   "metadata": {},
   "source": [
    "We should also remove the rows that have infinite values for the like_ratio."
   ]
  },
  {
   "cell_type": "code",
   "execution_count": null,
   "id": "7f7ea9d3",
   "metadata": {},
   "outputs": [],
   "source": [
    "df = df[df['like_ratio'] != df['like_ratio'].max()]"
   ]
  },
  {
   "cell_type": "code",
   "execution_count": null,
   "id": "b530a526",
   "metadata": {},
   "outputs": [],
   "source": [
    "df.info()"
   ]
  },
  {
   "cell_type": "code",
   "execution_count": null,
   "id": "5036aadf",
   "metadata": {},
   "outputs": [],
   "source": [
    "df['like_ratio'].max()"
   ]
  },
  {
   "cell_type": "markdown",
   "id": "9b3d8f91-0686-4880-93fd-91df64d41187",
   "metadata": {},
   "source": [
    "# Pandas makes matplotlib more convenient"
   ]
  },
  {
   "cell_type": "markdown",
   "id": "88ee9aea-3bc6-42f5-959b-21d912b03bc4",
   "metadata": {},
   "source": [
    "The convenience of Pandas is that it provides methods and operations suited to record-oriented data analysis and data manipulation. Recent versions of matplotlib have included an option of selecting your data from Pandas columns/series instead having to extract them into python lists or other iterables.\n",
    "\n",
    "We show an example of this using the data set from the in-class problem set 2."
   ]
  },
  {
   "cell_type": "code",
   "execution_count": null,
   "id": "2536a918-4bee-4249-ac1d-3ec3b84d222a",
   "metadata": {},
   "outputs": [],
   "source": [
    "# read the csv data into a dataframe\n",
    "df = pd.read_csv('datasets/jash312/NL_combined_weather_data.csv')\n",
    "type(df) # what kind of object is it?"
   ]
  },
  {
   "cell_type": "code",
   "execution_count": null,
   "id": "0c0abc05-0dd6-457e-85ba-8b355f487798",
   "metadata": {},
   "outputs": [],
   "source": [
    "df.info()\n"
   ]
  },
  {
   "cell_type": "markdown",
   "id": "f726aebc-c3bc-4c97-bfda-bef1380a7855",
   "metadata": {},
   "source": [
    "Note that pandas has conveted the integer and float values to the appropriate types in the DataFrame, which solves a problem we had with parsing this csv file.\n",
    "\n",
    "Next, we do the data reduction using Pandas techniques that are not available in standard python data structures:"
   ]
  },
  {
   "cell_type": "code",
   "execution_count": null,
   "id": "8d5ab5d6-d91b-449e-abd2-177fce503f06",
   "metadata": {},
   "outputs": [],
   "source": [
    "j2020df = df[df['Station Name'].str.contains(\"ST. JOHN'S INTL\") & (df['Year'] == 2020)\n",
    "                    & (df['Month'] == 1)]\n",
    "j2020df.info()"
   ]
  },
  {
   "cell_type": "markdown",
   "id": "21371795-c546-4852-95e9-08521b948ad0",
   "metadata": {},
   "source": [
    "To use columns from a DataFrame, provide the column names instead of data points for x and y, and specifiy the DataFrame as a data source using the keyword parameter **data=** "
   ]
  },
  {
   "cell_type": "code",
   "execution_count": null,
   "id": "8b2c26ff-8799-4ecc-9bcb-c23079d21195",
   "metadata": {},
   "outputs": [],
   "source": [
    "import matplotlib.pyplot as plt\n",
    "\n",
    "plt.plot('Day','Mean Temp (°C)', data=j2020df)\n",
    "plt.show()"
   ]
  },
  {
   "cell_type": "markdown",
   "id": "9b2f94a0",
   "metadata": {},
   "source": [
    "# Summary"
   ]
  },
  {
   "cell_type": "markdown",
   "id": "47be698f",
   "metadata": {},
   "source": [
    "Load data: ``df = pd.read_csv('filename.csv')``\n",
    "\n",
    "Exploratory data analysis:\n",
    "- ``df.info()``\n",
    "- ``df.describe()``\n",
    "- ``df['column'].value_counts()``\n",
    "- ``df['column'].unique()``\n",
    "- ``df['column'].nunique()``\n",
    "   \n",
    "Filtering and slicing:\n",
    "- ``df[df['column'] > val]``\n",
    "- ``df[df['column'].str.contains()]``\n",
    "- ``df[(df['column'] > val) & (df['column2'] > val2)]``\n",
    "- etc\n",
    "\n",
    "Sorting data:\n",
    "- ``df.sort_values(by='column_name', ascending=False/True)``\n",
    "\n",
    "Bad data:\n",
    "- ``df[df['column'].notna()]``\n",
    "- and ``.isna()``, ``.notnull()``, ``.isnull()``\n",
    "- ``df.dropna()``\n",
    "- ``df.fillna()``\n",
    "\n",
    "Matplotlib:\n",
    "- ``plt.plot('xcolname', 'ycolname', data=DataFrame)``"
   ]
  }
 ],
 "metadata": {
  "kernelspec": {
   "display_name": "Python 3 (ipykernel)",
   "language": "python",
   "name": "python3"
  },
  "language_info": {
   "codemirror_mode": {
    "name": "ipython",
    "version": 3
   },
   "file_extension": ".py",
   "mimetype": "text/x-python",
   "name": "python",
   "nbconvert_exporter": "python",
   "pygments_lexer": "ipython3",
   "version": "3.9.21"
  }
 },
 "nbformat": 4,
 "nbformat_minor": 5
}
